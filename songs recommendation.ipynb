{
 "cells": [
  {
   "cell_type": "code",
   "execution_count": 256,
   "metadata": {},
   "outputs": [
    {
     "name": "stderr",
     "output_type": "stream",
     "text": [
      "\u001b[32m\u001b[1m  Resolving\u001b[22m\u001b[39m package versions...\n",
      "\u001b[32m\u001b[1mNo Changes\u001b[22m\u001b[39m to `C:\\Users\\pranay\\Project.toml`\n",
      "\u001b[32m\u001b[1mNo Changes\u001b[22m\u001b[39m to `C:\\Users\\pranay\\Manifest.toml`\n",
      "\u001b[32m\u001b[1m  Resolving\u001b[22m\u001b[39m package versions...\n",
      "\u001b[32m\u001b[1mNo Changes\u001b[22m\u001b[39m to `C:\\Users\\pranay\\Project.toml`\n",
      "\u001b[32m\u001b[1mNo Changes\u001b[22m\u001b[39m to `C:\\Users\\pranay\\Manifest.toml`\n",
      "\u001b[32m\u001b[1m  Resolving\u001b[22m\u001b[39m package versions...\n",
      "\u001b[32m\u001b[1mNo Changes\u001b[22m\u001b[39m to `C:\\Users\\pranay\\Project.toml`\n",
      "\u001b[32m\u001b[1mNo Changes\u001b[22m\u001b[39m to `C:\\Users\\pranay\\Manifest.toml`\n"
     ]
    }
   ],
   "source": [
    "import Pkg;\n",
    "Pkg.add(\"DataFrames\") \n",
    "Pkg.add(\"Plots\")\n",
    "Pkg.add(\"CSV\")"
   ]
  },
  {
   "cell_type": "code",
   "execution_count": 257,
   "metadata": {},
   "outputs": [],
   "source": [
    "using CSV\n",
    "using DataFrames\n",
    "using Plots"
   ]
  },
  {
   "cell_type": "code",
   "execution_count": 134,
   "metadata": {},
   "outputs": [
    {
     "data": {
      "text/html": [
       "<table class=\"data-frame\"><thead><tr><th></th><th>userID</th><th>songID</th><th>rating</th></tr><tr><th></th><th>Int64</th><th>Int64</th><th>Int64</th></tr></thead><tbody><p>1,048,575 rows × 3 columns</p><tr><th>1</th><td>0</td><td>7171</td><td>5</td></tr><tr><th>2</th><td>0</td><td>8637</td><td>4</td></tr><tr><th>3</th><td>0</td><td>21966</td><td>4</td></tr><tr><th>4</th><td>0</td><td>35821</td><td>5</td></tr><tr><th>5</th><td>0</td><td>82446</td><td>5</td></tr><tr><th>6</th><td>0</td><td>90409</td><td>5</td></tr><tr><th>7</th><td>0</td><td>107410</td><td>5</td></tr><tr><th>8</th><td>0</td><td>131919</td><td>5</td></tr><tr><th>9</th><td>0</td><td>132685</td><td>3</td></tr><tr><th>10</th><td>0</td><td>136507</td><td>3</td></tr><tr><th>11</th><td>1</td><td>3342</td><td>5</td></tr><tr><th>12</th><td>1</td><td>7522</td><td>1</td></tr><tr><th>13</th><td>1</td><td>25363</td><td>2</td></tr><tr><th>14</th><td>1</td><td>38997</td><td>5</td></tr><tr><th>15</th><td>1</td><td>43685</td><td>1</td></tr><tr><th>16</th><td>1</td><td>45488</td><td>4</td></tr><tr><th>17</th><td>1</td><td>62770</td><td>3</td></tr><tr><th>18</th><td>1</td><td>109450</td><td>3</td></tr><tr><th>19</th><td>1</td><td>122506</td><td>3</td></tr><tr><th>20</th><td>1</td><td>130621</td><td>5</td></tr><tr><th>21</th><td>2</td><td>10438</td><td>3</td></tr><tr><th>22</th><td>2</td><td>31025</td><td>3</td></tr><tr><th>23</th><td>2</td><td>61247</td><td>4</td></tr><tr><th>24</th><td>2</td><td>61525</td><td>3</td></tr><tr><th>25</th><td>2</td><td>72465</td><td>4</td></tr><tr><th>26</th><td>2</td><td>89124</td><td>2</td></tr><tr><th>27</th><td>2</td><td>126946</td><td>3</td></tr><tr><th>28</th><td>2</td><td>127254</td><td>5</td></tr><tr><th>29</th><td>2</td><td>132216</td><td>2</td></tr><tr><th>30</th><td>2</td><td>134626</td><td>2</td></tr><tr><th>&vellip;</th><td>&vellip;</td><td>&vellip;</td><td>&vellip;</td></tr></tbody></table>"
      ],
      "text/latex": [
       "\\begin{tabular}{r|ccc}\n",
       "\t& userID & songID & rating\\\\\n",
       "\t\\hline\n",
       "\t& Int64 & Int64 & Int64\\\\\n",
       "\t\\hline\n",
       "\t1 & 0 & 7171 & 5 \\\\\n",
       "\t2 & 0 & 8637 & 4 \\\\\n",
       "\t3 & 0 & 21966 & 4 \\\\\n",
       "\t4 & 0 & 35821 & 5 \\\\\n",
       "\t5 & 0 & 82446 & 5 \\\\\n",
       "\t6 & 0 & 90409 & 5 \\\\\n",
       "\t7 & 0 & 107410 & 5 \\\\\n",
       "\t8 & 0 & 131919 & 5 \\\\\n",
       "\t9 & 0 & 132685 & 3 \\\\\n",
       "\t10 & 0 & 136507 & 3 \\\\\n",
       "\t11 & 1 & 3342 & 5 \\\\\n",
       "\t12 & 1 & 7522 & 1 \\\\\n",
       "\t13 & 1 & 25363 & 2 \\\\\n",
       "\t14 & 1 & 38997 & 5 \\\\\n",
       "\t15 & 1 & 43685 & 1 \\\\\n",
       "\t16 & 1 & 45488 & 4 \\\\\n",
       "\t17 & 1 & 62770 & 3 \\\\\n",
       "\t18 & 1 & 109450 & 3 \\\\\n",
       "\t19 & 1 & 122506 & 3 \\\\\n",
       "\t20 & 1 & 130621 & 5 \\\\\n",
       "\t21 & 2 & 10438 & 3 \\\\\n",
       "\t22 & 2 & 31025 & 3 \\\\\n",
       "\t23 & 2 & 61247 & 4 \\\\\n",
       "\t24 & 2 & 61525 & 3 \\\\\n",
       "\t25 & 2 & 72465 & 4 \\\\\n",
       "\t26 & 2 & 89124 & 2 \\\\\n",
       "\t27 & 2 & 126946 & 3 \\\\\n",
       "\t28 & 2 & 127254 & 5 \\\\\n",
       "\t29 & 2 & 132216 & 2 \\\\\n",
       "\t30 & 2 & 134626 & 2 \\\\\n",
       "\t$\\dots$ & $\\dots$ & $\\dots$ & $\\dots$ \\\\\n",
       "\\end{tabular}\n"
      ],
      "text/plain": [
       "1048575×3 DataFrame\n",
       "│ Row     │ userID │ songID │ rating │\n",
       "│         │ \u001b[90mInt64\u001b[39m  │ \u001b[90mInt64\u001b[39m  │ \u001b[90mInt64\u001b[39m  │\n",
       "├─────────┼────────┼────────┼────────┤\n",
       "│ 1       │ 0      │ 7171   │ 5      │\n",
       "│ 2       │ 0      │ 8637   │ 4      │\n",
       "│ 3       │ 0      │ 21966  │ 4      │\n",
       "│ 4       │ 0      │ 35821  │ 5      │\n",
       "│ 5       │ 0      │ 82446  │ 5      │\n",
       "│ 6       │ 0      │ 90409  │ 5      │\n",
       "│ 7       │ 0      │ 107410 │ 5      │\n",
       "│ 8       │ 0      │ 131919 │ 5      │\n",
       "│ 9       │ 0      │ 132685 │ 3      │\n",
       "│ 10      │ 0      │ 136507 │ 3      │\n",
       "⋮\n",
       "│ 1048565 │ 104856 │ 64935  │ 1      │\n",
       "│ 1048566 │ 104856 │ 78621  │ 1      │\n",
       "│ 1048567 │ 104856 │ 95600  │ 1      │\n",
       "│ 1048568 │ 104856 │ 106599 │ 3      │\n",
       "│ 1048569 │ 104856 │ 107892 │ 4      │\n",
       "│ 1048570 │ 104856 │ 117366 │ 2      │\n",
       "│ 1048571 │ 104857 │ 12932  │ 1      │\n",
       "│ 1048572 │ 104857 │ 17746  │ 1      │\n",
       "│ 1048573 │ 104857 │ 47474  │ 1      │\n",
       "│ 1048574 │ 104857 │ 51615  │ 5      │\n",
       "│ 1048575 │ 104857 │ 53089  │ 2      │"
      ]
     },
     "execution_count": 134,
     "metadata": {},
     "output_type": "execute_result"
    }
   ],
   "source": [
    "df=CSV.read(\"C:/Users/pranay/Downloads/songsDataset.csv\",DataFrame)"
   ]
  },
  {
   "cell_type": "code",
   "execution_count": 148,
   "metadata": {},
   "outputs": [
    {
     "data": {
      "text/html": [
       "<table class=\"data-frame\"><thead><tr><th></th><th>userID</th><th>songID</th><th>rating</th></tr><tr><th></th><th>Int64</th><th>Int64</th><th>Int64</th></tr></thead><tbody><p>10,000 rows × 3 columns</p><tr><th>1</th><td>0</td><td>7171</td><td>5</td></tr><tr><th>2</th><td>0</td><td>8637</td><td>4</td></tr><tr><th>3</th><td>0</td><td>21966</td><td>4</td></tr><tr><th>4</th><td>0</td><td>35821</td><td>5</td></tr><tr><th>5</th><td>0</td><td>82446</td><td>5</td></tr><tr><th>6</th><td>0</td><td>90409</td><td>5</td></tr><tr><th>7</th><td>0</td><td>107410</td><td>5</td></tr><tr><th>8</th><td>0</td><td>131919</td><td>5</td></tr><tr><th>9</th><td>0</td><td>132685</td><td>3</td></tr><tr><th>10</th><td>0</td><td>136507</td><td>3</td></tr><tr><th>11</th><td>1</td><td>3342</td><td>5</td></tr><tr><th>12</th><td>1</td><td>7522</td><td>1</td></tr><tr><th>13</th><td>1</td><td>25363</td><td>2</td></tr><tr><th>14</th><td>1</td><td>38997</td><td>5</td></tr><tr><th>15</th><td>1</td><td>43685</td><td>1</td></tr><tr><th>16</th><td>1</td><td>45488</td><td>4</td></tr><tr><th>17</th><td>1</td><td>62770</td><td>3</td></tr><tr><th>18</th><td>1</td><td>109450</td><td>3</td></tr><tr><th>19</th><td>1</td><td>122506</td><td>3</td></tr><tr><th>20</th><td>1</td><td>130621</td><td>5</td></tr><tr><th>21</th><td>2</td><td>10438</td><td>3</td></tr><tr><th>22</th><td>2</td><td>31025</td><td>3</td></tr><tr><th>23</th><td>2</td><td>61247</td><td>4</td></tr><tr><th>24</th><td>2</td><td>61525</td><td>3</td></tr><tr><th>25</th><td>2</td><td>72465</td><td>4</td></tr><tr><th>26</th><td>2</td><td>89124</td><td>2</td></tr><tr><th>27</th><td>2</td><td>126946</td><td>3</td></tr><tr><th>28</th><td>2</td><td>127254</td><td>5</td></tr><tr><th>29</th><td>2</td><td>132216</td><td>2</td></tr><tr><th>30</th><td>2</td><td>134626</td><td>2</td></tr><tr><th>&vellip;</th><td>&vellip;</td><td>&vellip;</td><td>&vellip;</td></tr></tbody></table>"
      ],
      "text/latex": [
       "\\begin{tabular}{r|ccc}\n",
       "\t& userID & songID & rating\\\\\n",
       "\t\\hline\n",
       "\t& Int64 & Int64 & Int64\\\\\n",
       "\t\\hline\n",
       "\t1 & 0 & 7171 & 5 \\\\\n",
       "\t2 & 0 & 8637 & 4 \\\\\n",
       "\t3 & 0 & 21966 & 4 \\\\\n",
       "\t4 & 0 & 35821 & 5 \\\\\n",
       "\t5 & 0 & 82446 & 5 \\\\\n",
       "\t6 & 0 & 90409 & 5 \\\\\n",
       "\t7 & 0 & 107410 & 5 \\\\\n",
       "\t8 & 0 & 131919 & 5 \\\\\n",
       "\t9 & 0 & 132685 & 3 \\\\\n",
       "\t10 & 0 & 136507 & 3 \\\\\n",
       "\t11 & 1 & 3342 & 5 \\\\\n",
       "\t12 & 1 & 7522 & 1 \\\\\n",
       "\t13 & 1 & 25363 & 2 \\\\\n",
       "\t14 & 1 & 38997 & 5 \\\\\n",
       "\t15 & 1 & 43685 & 1 \\\\\n",
       "\t16 & 1 & 45488 & 4 \\\\\n",
       "\t17 & 1 & 62770 & 3 \\\\\n",
       "\t18 & 1 & 109450 & 3 \\\\\n",
       "\t19 & 1 & 122506 & 3 \\\\\n",
       "\t20 & 1 & 130621 & 5 \\\\\n",
       "\t21 & 2 & 10438 & 3 \\\\\n",
       "\t22 & 2 & 31025 & 3 \\\\\n",
       "\t23 & 2 & 61247 & 4 \\\\\n",
       "\t24 & 2 & 61525 & 3 \\\\\n",
       "\t25 & 2 & 72465 & 4 \\\\\n",
       "\t26 & 2 & 89124 & 2 \\\\\n",
       "\t27 & 2 & 126946 & 3 \\\\\n",
       "\t28 & 2 & 127254 & 5 \\\\\n",
       "\t29 & 2 & 132216 & 2 \\\\\n",
       "\t30 & 2 & 134626 & 2 \\\\\n",
       "\t$\\dots$ & $\\dots$ & $\\dots$ & $\\dots$ \\\\\n",
       "\\end{tabular}\n"
      ],
      "text/plain": [
       "10000×3 DataFrame\n",
       "│ Row   │ userID │ songID │ rating │\n",
       "│       │ \u001b[90mInt64\u001b[39m  │ \u001b[90mInt64\u001b[39m  │ \u001b[90mInt64\u001b[39m  │\n",
       "├───────┼────────┼────────┼────────┤\n",
       "│ 1     │ 0      │ 7171   │ 5      │\n",
       "│ 2     │ 0      │ 8637   │ 4      │\n",
       "│ 3     │ 0      │ 21966  │ 4      │\n",
       "│ 4     │ 0      │ 35821  │ 5      │\n",
       "│ 5     │ 0      │ 82446  │ 5      │\n",
       "│ 6     │ 0      │ 90409  │ 5      │\n",
       "│ 7     │ 0      │ 107410 │ 5      │\n",
       "│ 8     │ 0      │ 131919 │ 5      │\n",
       "│ 9     │ 0      │ 132685 │ 3      │\n",
       "│ 10    │ 0      │ 136507 │ 3      │\n",
       "⋮\n",
       "│ 9990  │ 998    │ 135591 │ 1      │\n",
       "│ 9991  │ 999    │ 2745   │ 3      │\n",
       "│ 9992  │ 999    │ 5324   │ 1      │\n",
       "│ 9993  │ 999    │ 11966  │ 4      │\n",
       "│ 9994  │ 999    │ 36045  │ 3      │\n",
       "│ 9995  │ 999    │ 61198  │ 4      │\n",
       "│ 9996  │ 999    │ 61449  │ 2      │\n",
       "│ 9997  │ 999    │ 83845  │ 3      │\n",
       "│ 9998  │ 999    │ 112495 │ 2      │\n",
       "│ 9999  │ 999    │ 118673 │ 2      │\n",
       "│ 10000 │ 999    │ 132189 │ 2      │"
      ]
     },
     "execution_count": 148,
     "metadata": {},
     "output_type": "execute_result"
    }
   ],
   "source": [
    "df=head(df,10000)"
   ]
  },
  {
   "cell_type": "code",
   "execution_count": 149,
   "metadata": {},
   "outputs": [
    {
     "data": {
      "text/plain": [
       "(10000, 3)"
      ]
     },
     "execution_count": 149,
     "metadata": {},
     "output_type": "execute_result"
    }
   ],
   "source": [
    "size(df)"
   ]
  },
  {
   "cell_type": "code",
   "execution_count": 150,
   "metadata": {},
   "outputs": [
    {
     "data": {
      "text/plain": [
       "3-element Array{String,1}:\n",
       " \"userID\"\n",
       " \"songID\"\n",
       " \"rating\""
      ]
     },
     "execution_count": 150,
     "metadata": {},
     "output_type": "execute_result"
    }
   ],
   "source": [
    "names(df)"
   ]
  },
  {
   "cell_type": "code",
   "execution_count": 255,
   "metadata": {},
   "outputs": [
    {
     "data": {
      "text/html": [
       "<table class=\"data-frame\"><thead><tr><th></th><th>variable</th><th>mean</th><th>min</th><th>median</th><th>max</th><th>nmissing</th><th>eltype</th></tr><tr><th></th><th>Symbol</th><th>Float64</th><th>Int64</th><th>Float64</th><th>Int64</th><th>Nothing</th><th>DataType</th></tr></thead><tbody><p>3 rows × 7 columns</p><tr><th>1</th><td>userID</td><td>499.5</td><td>0</td><td>499.5</td><td>999</td><td></td><td>Int64</td></tr><tr><th>2</th><td>songID</td><td>67940.2</td><td>4</td><td>67264.5</td><td>136728</td><td></td><td>Int64</td></tr><tr><th>3</th><td>rating</td><td>3.469</td><td>1</td><td>4.0</td><td>5</td><td></td><td>Int64</td></tr></tbody></table>"
      ],
      "text/latex": [
       "\\begin{tabular}{r|ccccccc}\n",
       "\t& variable & mean & min & median & max & nmissing & eltype\\\\\n",
       "\t\\hline\n",
       "\t& Symbol & Float64 & Int64 & Float64 & Int64 & Nothing & DataType\\\\\n",
       "\t\\hline\n",
       "\t1 & userID & 499.5 & 0 & 499.5 & 999 &  & Int64 \\\\\n",
       "\t2 & songID & 67940.2 & 4 & 67264.5 & 136728 &  & Int64 \\\\\n",
       "\t3 & rating & 3.469 & 1 & 4.0 & 5 &  & Int64 \\\\\n",
       "\\end{tabular}\n"
      ],
      "text/plain": [
       "3×7 DataFrame\n",
       "│ Row │ variable │ mean    │ min   │ median  │ max    │ nmissing │ eltype   │\n",
       "│     │ \u001b[90mSymbol\u001b[39m   │ \u001b[90mFloat64\u001b[39m │ \u001b[90mInt64\u001b[39m │ \u001b[90mFloat64\u001b[39m │ \u001b[90mInt64\u001b[39m  │ \u001b[90mNothing\u001b[39m  │ \u001b[90mDataType\u001b[39m │\n",
       "├─────┼──────────┼─────────┼───────┼─────────┼────────┼──────────┼──────────┤\n",
       "│ 1   │ userID   │ 499.5   │ 0     │ 499.5   │ 999    │          │ Int64    │\n",
       "│ 2   │ songID   │ 67940.2 │ 4     │ 67264.5 │ 136728 │          │ Int64    │\n",
       "│ 3   │ rating   │ 3.469   │ 1     │ 4.0     │ 5      │          │ Int64    │"
      ]
     },
     "execution_count": 255,
     "metadata": {},
     "output_type": "execute_result"
    }
   ],
   "source": [
    "describe(df, :mean,:min, :median,:max, :nmissing, :eltype)"
   ]
  },
  {
   "cell_type": "code",
   "execution_count": 169,
   "metadata": {},
   "outputs": [
    {
     "data": {
      "text/html": [
       "<table class=\"data-frame\"><thead><tr><th></th><th>userid</th><th>songid</th><th>rating</th></tr><tr><th></th><th>Int64</th><th>Int64</th><th>Int64</th></tr></thead><tbody><p>0 rows × 3 columns</p></tbody></table>"
      ],
      "text/latex": [
       "\\begin{tabular}{r|ccc}\n",
       "\t& userid & songid & rating\\\\\n",
       "\t\\hline\n",
       "\t& Int64 & Int64 & Int64\\\\\n",
       "\t\\hline\n",
       "\\end{tabular}\n"
      ],
      "text/plain": [
       "0×3 DataFrame\n"
      ]
     },
     "execution_count": 169,
     "metadata": {},
     "output_type": "execute_result"
    }
   ],
   "source": [
    "train_data = DataFrame(userid = Int[], songid = Int[], rating = Int[])"
   ]
  },
  {
   "cell_type": "code",
   "execution_count": 170,
   "metadata": {},
   "outputs": [
    {
     "data": {
      "text/html": [
       "<table class=\"data-frame\"><thead><tr><th></th><th>userid</th><th>songid</th><th>rating</th></tr><tr><th></th><th>Int64</th><th>Int64</th><th>Int64</th></tr></thead><tbody><p>0 rows × 3 columns</p></tbody></table>"
      ],
      "text/latex": [
       "\\begin{tabular}{r|ccc}\n",
       "\t& userid & songid & rating\\\\\n",
       "\t\\hline\n",
       "\t& Int64 & Int64 & Int64\\\\\n",
       "\t\\hline\n",
       "\\end{tabular}\n"
      ],
      "text/plain": [
       "0×3 DataFrame\n"
      ]
     },
     "execution_count": 170,
     "metadata": {},
     "output_type": "execute_result"
    }
   ],
   "source": [
    "test_data = DataFrame(userid = Int[], songid = Int[], rating = Int[])"
   ]
  },
  {
   "cell_type": "code",
   "execution_count": 171,
   "metadata": {},
   "outputs": [],
   "source": [
    "for row in eachrow(df)\n",
    "    rand(1:10) == 10 ? \n",
    "    push!(test_data, convert(Array, row[[:userID, :songID, :rating]])) :\n",
    "    push!(train_data, convert(Array, row[[:userID, :songID, :rating]]))\n",
    "end"
   ]
  },
  {
   "cell_type": "code",
   "execution_count": 172,
   "metadata": {},
   "outputs": [
    {
     "data": {
      "text/html": [
       "<table class=\"data-frame\"><thead><tr><th></th><th>userid</th><th>songid</th><th>rating</th></tr><tr><th></th><th>Int64</th><th>Int64</th><th>Int64</th></tr></thead><tbody><p>8,997 rows × 3 columns</p><tr><th>1</th><td>0</td><td>7171</td><td>5</td></tr><tr><th>2</th><td>0</td><td>21966</td><td>4</td></tr><tr><th>3</th><td>0</td><td>82446</td><td>5</td></tr><tr><th>4</th><td>0</td><td>90409</td><td>5</td></tr><tr><th>5</th><td>0</td><td>107410</td><td>5</td></tr><tr><th>6</th><td>0</td><td>131919</td><td>5</td></tr><tr><th>7</th><td>0</td><td>132685</td><td>3</td></tr><tr><th>8</th><td>0</td><td>136507</td><td>3</td></tr><tr><th>9</th><td>1</td><td>7522</td><td>1</td></tr><tr><th>10</th><td>1</td><td>25363</td><td>2</td></tr><tr><th>11</th><td>1</td><td>38997</td><td>5</td></tr><tr><th>12</th><td>1</td><td>45488</td><td>4</td></tr><tr><th>13</th><td>1</td><td>62770</td><td>3</td></tr><tr><th>14</th><td>1</td><td>109450</td><td>3</td></tr><tr><th>15</th><td>1</td><td>122506</td><td>3</td></tr><tr><th>16</th><td>1</td><td>130621</td><td>5</td></tr><tr><th>17</th><td>2</td><td>10438</td><td>3</td></tr><tr><th>18</th><td>2</td><td>31025</td><td>3</td></tr><tr><th>19</th><td>2</td><td>61247</td><td>4</td></tr><tr><th>20</th><td>2</td><td>61525</td><td>3</td></tr><tr><th>21</th><td>2</td><td>72465</td><td>4</td></tr><tr><th>22</th><td>2</td><td>126946</td><td>3</td></tr><tr><th>23</th><td>2</td><td>127254</td><td>5</td></tr><tr><th>24</th><td>2</td><td>132216</td><td>2</td></tr><tr><th>25</th><td>2</td><td>134626</td><td>2</td></tr><tr><th>26</th><td>3</td><td>1666</td><td>1</td></tr><tr><th>27</th><td>3</td><td>20977</td><td>3</td></tr><tr><th>28</th><td>3</td><td>32861</td><td>1</td></tr><tr><th>29</th><td>3</td><td>51490</td><td>5</td></tr><tr><th>30</th><td>3</td><td>58567</td><td>4</td></tr><tr><th>&vellip;</th><td>&vellip;</td><td>&vellip;</td><td>&vellip;</td></tr></tbody></table>"
      ],
      "text/latex": [
       "\\begin{tabular}{r|ccc}\n",
       "\t& userid & songid & rating\\\\\n",
       "\t\\hline\n",
       "\t& Int64 & Int64 & Int64\\\\\n",
       "\t\\hline\n",
       "\t1 & 0 & 7171 & 5 \\\\\n",
       "\t2 & 0 & 21966 & 4 \\\\\n",
       "\t3 & 0 & 82446 & 5 \\\\\n",
       "\t4 & 0 & 90409 & 5 \\\\\n",
       "\t5 & 0 & 107410 & 5 \\\\\n",
       "\t6 & 0 & 131919 & 5 \\\\\n",
       "\t7 & 0 & 132685 & 3 \\\\\n",
       "\t8 & 0 & 136507 & 3 \\\\\n",
       "\t9 & 1 & 7522 & 1 \\\\\n",
       "\t10 & 1 & 25363 & 2 \\\\\n",
       "\t11 & 1 & 38997 & 5 \\\\\n",
       "\t12 & 1 & 45488 & 4 \\\\\n",
       "\t13 & 1 & 62770 & 3 \\\\\n",
       "\t14 & 1 & 109450 & 3 \\\\\n",
       "\t15 & 1 & 122506 & 3 \\\\\n",
       "\t16 & 1 & 130621 & 5 \\\\\n",
       "\t17 & 2 & 10438 & 3 \\\\\n",
       "\t18 & 2 & 31025 & 3 \\\\\n",
       "\t19 & 2 & 61247 & 4 \\\\\n",
       "\t20 & 2 & 61525 & 3 \\\\\n",
       "\t21 & 2 & 72465 & 4 \\\\\n",
       "\t22 & 2 & 126946 & 3 \\\\\n",
       "\t23 & 2 & 127254 & 5 \\\\\n",
       "\t24 & 2 & 132216 & 2 \\\\\n",
       "\t25 & 2 & 134626 & 2 \\\\\n",
       "\t26 & 3 & 1666 & 1 \\\\\n",
       "\t27 & 3 & 20977 & 3 \\\\\n",
       "\t28 & 3 & 32861 & 1 \\\\\n",
       "\t29 & 3 & 51490 & 5 \\\\\n",
       "\t30 & 3 & 58567 & 4 \\\\\n",
       "\t$\\dots$ & $\\dots$ & $\\dots$ & $\\dots$ \\\\\n",
       "\\end{tabular}\n"
      ],
      "text/plain": [
       "8997×3 DataFrame\n",
       "│ Row  │ userid │ songid │ rating │\n",
       "│      │ \u001b[90mInt64\u001b[39m  │ \u001b[90mInt64\u001b[39m  │ \u001b[90mInt64\u001b[39m  │\n",
       "├──────┼────────┼────────┼────────┤\n",
       "│ 1    │ 0      │ 7171   │ 5      │\n",
       "│ 2    │ 0      │ 21966  │ 4      │\n",
       "│ 3    │ 0      │ 82446  │ 5      │\n",
       "│ 4    │ 0      │ 90409  │ 5      │\n",
       "│ 5    │ 0      │ 107410 │ 5      │\n",
       "│ 6    │ 0      │ 131919 │ 5      │\n",
       "│ 7    │ 0      │ 132685 │ 3      │\n",
       "│ 8    │ 0      │ 136507 │ 3      │\n",
       "│ 9    │ 1      │ 7522   │ 1      │\n",
       "│ 10   │ 1      │ 25363  │ 2      │\n",
       "⋮\n",
       "│ 8987 │ 998    │ 42635  │ 5      │\n",
       "│ 8988 │ 998    │ 58409  │ 5      │\n",
       "│ 8989 │ 998    │ 75343  │ 4      │\n",
       "│ 8990 │ 998    │ 105275 │ 1      │\n",
       "│ 8991 │ 998    │ 109990 │ 3      │\n",
       "│ 8992 │ 998    │ 135591 │ 1      │\n",
       "│ 8993 │ 999    │ 5324   │ 1      │\n",
       "│ 8994 │ 999    │ 11966  │ 4      │\n",
       "│ 8995 │ 999    │ 36045  │ 3      │\n",
       "│ 8996 │ 999    │ 61198  │ 4      │\n",
       "│ 8997 │ 999    │ 118673 │ 2      │"
      ]
     },
     "execution_count": 172,
     "metadata": {},
     "output_type": "execute_result"
    }
   ],
   "source": [
    "train_data"
   ]
  },
  {
   "cell_type": "code",
   "execution_count": 173,
   "metadata": {},
   "outputs": [
    {
     "data": {
      "text/html": [
       "<table class=\"data-frame\"><thead><tr><th></th><th>userid</th><th>songid</th><th>rating</th></tr><tr><th></th><th>Int64</th><th>Int64</th><th>Int64</th></tr></thead><tbody><p>1,003 rows × 3 columns</p><tr><th>1</th><td>0</td><td>8637</td><td>4</td></tr><tr><th>2</th><td>0</td><td>35821</td><td>5</td></tr><tr><th>3</th><td>1</td><td>3342</td><td>5</td></tr><tr><th>4</th><td>1</td><td>43685</td><td>1</td></tr><tr><th>5</th><td>2</td><td>89124</td><td>2</td></tr><tr><th>6</th><td>3</td><td>36412</td><td>1</td></tr><tr><th>7</th><td>3</td><td>51664</td><td>2</td></tr><tr><th>8</th><td>4</td><td>128803</td><td>3</td></tr><tr><th>9</th><td>7</td><td>48211</td><td>4</td></tr><tr><th>10</th><td>8</td><td>25635</td><td>5</td></tr><tr><th>11</th><td>8</td><td>122021</td><td>5</td></tr><tr><th>12</th><td>9</td><td>43887</td><td>5</td></tr><tr><th>13</th><td>9</td><td>105156</td><td>3</td></tr><tr><th>14</th><td>11</td><td>56355</td><td>4</td></tr><tr><th>15</th><td>12</td><td>42587</td><td>4</td></tr><tr><th>16</th><td>14</td><td>86566</td><td>5</td></tr><tr><th>17</th><td>14</td><td>105421</td><td>3</td></tr><tr><th>18</th><td>16</td><td>13938</td><td>5</td></tr><tr><th>19</th><td>16</td><td>54139</td><td>2</td></tr><tr><th>20</th><td>19</td><td>25922</td><td>3</td></tr><tr><th>21</th><td>20</td><td>68910</td><td>5</td></tr><tr><th>22</th><td>24</td><td>16681</td><td>4</td></tr><tr><th>23</th><td>26</td><td>58231</td><td>1</td></tr><tr><th>24</th><td>26</td><td>105791</td><td>1</td></tr><tr><th>25</th><td>27</td><td>109255</td><td>4</td></tr><tr><th>26</th><td>27</td><td>126468</td><td>1</td></tr><tr><th>27</th><td>28</td><td>95912</td><td>1</td></tr><tr><th>28</th><td>28</td><td>127798</td><td>3</td></tr><tr><th>29</th><td>29</td><td>71531</td><td>5</td></tr><tr><th>30</th><td>30</td><td>5044</td><td>5</td></tr><tr><th>&vellip;</th><td>&vellip;</td><td>&vellip;</td><td>&vellip;</td></tr></tbody></table>"
      ],
      "text/latex": [
       "\\begin{tabular}{r|ccc}\n",
       "\t& userid & songid & rating\\\\\n",
       "\t\\hline\n",
       "\t& Int64 & Int64 & Int64\\\\\n",
       "\t\\hline\n",
       "\t1 & 0 & 8637 & 4 \\\\\n",
       "\t2 & 0 & 35821 & 5 \\\\\n",
       "\t3 & 1 & 3342 & 5 \\\\\n",
       "\t4 & 1 & 43685 & 1 \\\\\n",
       "\t5 & 2 & 89124 & 2 \\\\\n",
       "\t6 & 3 & 36412 & 1 \\\\\n",
       "\t7 & 3 & 51664 & 2 \\\\\n",
       "\t8 & 4 & 128803 & 3 \\\\\n",
       "\t9 & 7 & 48211 & 4 \\\\\n",
       "\t10 & 8 & 25635 & 5 \\\\\n",
       "\t11 & 8 & 122021 & 5 \\\\\n",
       "\t12 & 9 & 43887 & 5 \\\\\n",
       "\t13 & 9 & 105156 & 3 \\\\\n",
       "\t14 & 11 & 56355 & 4 \\\\\n",
       "\t15 & 12 & 42587 & 4 \\\\\n",
       "\t16 & 14 & 86566 & 5 \\\\\n",
       "\t17 & 14 & 105421 & 3 \\\\\n",
       "\t18 & 16 & 13938 & 5 \\\\\n",
       "\t19 & 16 & 54139 & 2 \\\\\n",
       "\t20 & 19 & 25922 & 3 \\\\\n",
       "\t21 & 20 & 68910 & 5 \\\\\n",
       "\t22 & 24 & 16681 & 4 \\\\\n",
       "\t23 & 26 & 58231 & 1 \\\\\n",
       "\t24 & 26 & 105791 & 1 \\\\\n",
       "\t25 & 27 & 109255 & 4 \\\\\n",
       "\t26 & 27 & 126468 & 1 \\\\\n",
       "\t27 & 28 & 95912 & 1 \\\\\n",
       "\t28 & 28 & 127798 & 3 \\\\\n",
       "\t29 & 29 & 71531 & 5 \\\\\n",
       "\t30 & 30 & 5044 & 5 \\\\\n",
       "\t$\\dots$ & $\\dots$ & $\\dots$ & $\\dots$ \\\\\n",
       "\\end{tabular}\n"
      ],
      "text/plain": [
       "1003×3 DataFrame\n",
       "│ Row  │ userid │ songid │ rating │\n",
       "│      │ \u001b[90mInt64\u001b[39m  │ \u001b[90mInt64\u001b[39m  │ \u001b[90mInt64\u001b[39m  │\n",
       "├──────┼────────┼────────┼────────┤\n",
       "│ 1    │ 0      │ 8637   │ 4      │\n",
       "│ 2    │ 0      │ 35821  │ 5      │\n",
       "│ 3    │ 1      │ 3342   │ 5      │\n",
       "│ 4    │ 1      │ 43685  │ 1      │\n",
       "│ 5    │ 2      │ 89124  │ 2      │\n",
       "│ 6    │ 3      │ 36412  │ 1      │\n",
       "│ 7    │ 3      │ 51664  │ 2      │\n",
       "│ 8    │ 4      │ 128803 │ 3      │\n",
       "│ 9    │ 7      │ 48211  │ 4      │\n",
       "│ 10   │ 8      │ 25635  │ 5      │\n",
       "⋮\n",
       "│ 993  │ 995    │ 57760  │ 2      │\n",
       "│ 994  │ 995    │ 114298 │ 4      │\n",
       "│ 995  │ 996    │ 77295  │ 2      │\n",
       "│ 996  │ 997    │ 31915  │ 5      │\n",
       "│ 997  │ 997    │ 49431  │ 5      │\n",
       "│ 998  │ 997    │ 118685 │ 2      │\n",
       "│ 999  │ 999    │ 2745   │ 3      │\n",
       "│ 1000 │ 999    │ 61449  │ 2      │\n",
       "│ 1001 │ 999    │ 83845  │ 3      │\n",
       "│ 1002 │ 999    │ 112495 │ 2      │\n",
       "│ 1003 │ 999    │ 132189 │ 2      │"
      ]
     },
     "execution_count": 173,
     "metadata": {},
     "output_type": "execute_result"
    }
   ],
   "source": [
    "test_data"
   ]
  },
  {
   "cell_type": "code",
   "execution_count": 174,
   "metadata": {},
   "outputs": [
    {
     "data": {
      "text/plain": [
       "(8997, 3)"
      ]
     },
     "execution_count": 174,
     "metadata": {},
     "output_type": "execute_result"
    }
   ],
   "source": [
    "size(train_data)"
   ]
  },
  {
   "cell_type": "code",
   "execution_count": 175,
   "metadata": {},
   "outputs": [
    {
     "data": {
      "text/plain": [
       "(1003, 3)"
      ]
     },
     "execution_count": 175,
     "metadata": {},
     "output_type": "execute_result"
    }
   ],
   "source": [
    "size(test_data)"
   ]
  },
  {
   "cell_type": "code",
   "execution_count": 196,
   "metadata": {},
   "outputs": [
    {
     "name": "stderr",
     "output_type": "stream",
     "text": [
      "\u001b[32m\u001b[1m  Resolving\u001b[22m\u001b[39m package versions...\n",
      "\u001b[32m\u001b[1mNo Changes\u001b[22m\u001b[39m to `C:\\Users\\pranay\\Project.toml`\n",
      "\u001b[32m\u001b[1mNo Changes\u001b[22m\u001b[39m to `C:\\Users\\pranay\\Manifest.toml`\n"
     ]
    }
   ],
   "source": [
    "Pkg.add(\"Recommendation\")\n",
    "using Recommendation"
   ]
  },
  {
   "cell_type": "code",
   "execution_count": 224,
   "metadata": {},
   "outputs": [
    {
     "data": {
      "text/plain": [
       "(Dict{Int64,Int64}(), Dict{Int64,Int64}())"
      ]
     },
     "execution_count": 224,
     "metadata": {},
     "output_type": "execute_result"
    }
   ],
   "source": [
    "user_c,song_c = 0,0\n",
    "user_mapping, song_mapping =Dict{Int,Int}(),Dict{Int,Int}()"
   ]
  },
  {
   "cell_type": "code",
   "execution_count": 225,
   "metadata": {},
   "outputs": [
    {
     "data": {
      "text/plain": [
       "Event[]"
      ]
     },
     "execution_count": 225,
     "metadata": {},
     "output_type": "execute_result"
    }
   ],
   "source": [
    "events = Recommendation.Event[]"
   ]
  },
  {
   "cell_type": "code",
   "execution_count": 230,
   "metadata": {},
   "outputs": [],
   "source": [
    "for row in eachrow(train_data) \n",
    "    user_c, song_c\n",
    "    userid, songid, rating = row[:userid], row[:songid], row[:rating]\n",
    "    haskey(user_mapping, userid) || (user_mapping[userid] = (user_c += 1))\n",
    "    haskey(song_mapping, songid) || (song_mapping[songid] = (song_c += 1))\n",
    "    push!(events, Recommendation.Event(user_mapping[userid], book_mapping[songid], rating)) \n",
    "end"
   ]
  },
  {
   "cell_type": "code",
   "execution_count": 231,
   "metadata": {},
   "outputs": [
    {
     "data": {
      "text/plain": [
       "17994-element Array{Event,1}:\n",
       " Event(1, 1, 5.0)\n",
       " Event(1, 2, 4.0)\n",
       " Event(1, 3, 5.0)\n",
       " Event(1, 4, 5.0)\n",
       " Event(1, 5, 5.0)\n",
       " Event(1, 6, 5.0)\n",
       " Event(1, 7, 3.0)\n",
       " Event(1, 8, 3.0)\n",
       " Event(2, 9, 1.0)\n",
       " Event(2, 10, 2.0)\n",
       " Event(2, 11, 5.0)\n",
       " Event(2, 12, 4.0)\n",
       " Event(2, 13, 3.0)\n",
       " ⋮\n",
       " Event(999, 6769, 3.0)\n",
       " Event(999, 6770, 5.0)\n",
       " Event(999, 3618, 5.0)\n",
       " Event(999, 6771, 4.0)\n",
       " Event(999, 6772, 1.0)\n",
       " Event(999, 3175, 3.0)\n",
       " Event(999, 1543, 1.0)\n",
       " Event(1000, 6773, 1.0)\n",
       " Event(1000, 2351, 4.0)\n",
       " Event(1000, 6484, 3.0)\n",
       " Event(1000, 6774, 4.0)\n",
       " Event(1000, 6775, 2.0)"
      ]
     },
     "execution_count": 231,
     "metadata": {},
     "output_type": "execute_result"
    }
   ],
   "source": [
    "events"
   ]
  },
  {
   "cell_type": "code",
   "execution_count": 238,
   "metadata": {},
   "outputs": [
    {
     "data": {
      "text/plain": [
       "DataAccessor(Event[Event(1, 1, 5.0), Event(1, 2, 4.0), Event(1, 3, 5.0), Event(1, 4, 5.0), Event(1, 5, 5.0), Event(1, 6, 5.0), Event(1, 7, 3.0), Event(1, 8, 3.0), Event(2, 9, 1.0), Event(2, 10, 2.0)  …  Event(999, 3618, 5.0), Event(999, 6771, 4.0), Event(999, 6772, 1.0), Event(999, 3175, 3.0), Event(999, 1543, 1.0), Event(1000, 6773, 1.0), Event(1000, 2351, 4.0), Event(1000, 6484, 3.0), Event(1000, 6774, 4.0), Event(1000, 6775, 2.0)], [10.0 8.0 … NaN NaN; NaN NaN … NaN NaN; … ; NaN NaN … NaN NaN; NaN NaN … 8.0 4.0], Dict{Int64,Any}(), Dict{Int64,Any}())"
      ]
     },
     "execution_count": 238,
     "metadata": {},
     "output_type": "execute_result"
    }
   ],
   "source": [
    "using Recommendation\n",
    "da = DataAccessor(events,user_c,song_c)"
   ]
  },
  {
   "cell_type": "code",
   "execution_count": 239,
   "metadata": {},
   "outputs": [
    {
     "data": {
      "text/plain": [
       "MF(DataAccessor(Event[Event(1, 1, 5.0), Event(1, 2, 4.0), Event(1, 3, 5.0), Event(1, 4, 5.0), Event(1, 5, 5.0), Event(1, 6, 5.0), Event(1, 7, 3.0), Event(1, 8, 3.0), Event(2, 9, 1.0), Event(2, 10, 2.0)  …  Event(999, 3618, 5.0), Event(999, 6771, 4.0), Event(999, 6772, 1.0), Event(999, 3175, 3.0), Event(999, 1543, 1.0), Event(1000, 6773, 1.0), Event(1000, 2351, 4.0), Event(1000, 6484, 3.0), Event(1000, 6774, 4.0), Event(1000, 6775, 2.0)], [10.0 8.0 … NaN NaN; NaN NaN … NaN NaN; … ; NaN NaN … NaN NaN; NaN NaN … 8.0 4.0], Dict{Int64,Any}(), Dict{Int64,Any}()), 20, Union{Nothing, Float64}[nothing nothing … nothing nothing; nothing nothing … nothing nothing; … ; nothing nothing … nothing nothing; nothing nothing … nothing nothing], Union{Nothing, Float64}[nothing nothing … nothing nothing; nothing nothing … nothing nothing; … ; nothing nothing … nothing nothing; nothing nothing … nothing nothing])"
      ]
     },
     "execution_count": 239,
     "metadata": {},
     "output_type": "execute_result"
    }
   ],
   "source": [
    "#The idea behind matrix factorization is to represent users and items \n",
    "#in a lower dimensional latent space.\n",
    "recommender = MF(da)"
   ]
  },
  {
   "cell_type": "code",
   "execution_count": 240,
   "metadata": {},
   "outputs": [
    {
     "data": {
      "text/plain": [
       "135500-element Array{Float64,1}:\n",
       " 0.485181006025936\n",
       " 0.38934031266819585\n",
       " 0.4852672964619532\n",
       " 0.5214373250620215\n",
       " 0.4852745287532141\n",
       " 0.48528198676503964\n",
       " 0.2934670697715045\n",
       " 0.3379980337512944\n",
       " 0.11244919167578521\n",
       " 0.21276247340436505\n",
       " 0.5136766895019544\n",
       " 0.4133010364624003\n",
       " 0.3602460097853697\n",
       " ⋮\n",
       " 0.547522105754089\n",
       " 0.547554525371315\n",
       " 0.23042967562423824\n",
       " 0.11912579444225432\n",
       " 0.22520809120104643\n",
       " 0.3313920874986141\n",
       " 0.5438253710107637\n",
       " 0.437567986351563\n",
       " 0.11906678952357685\n",
       " 0.1387352288952818\n",
       " 0.4600678746954334\n",
       " 0.24586159644475913"
      ]
     },
     "execution_count": 240,
     "metadata": {},
     "output_type": "execute_result"
    }
   ],
   "source": [
    "#building a recommendation engine \n",
    "build!(recommender)"
   ]
  },
  {
   "cell_type": "code",
   "execution_count": 253,
   "metadata": {},
   "outputs": [
    {
     "data": {
      "text/plain": [
       "10-element Array{Pair{Int64,Float64},1}:\n",
       " 1321 => 13.723302242513844\n",
       " 3337 => 13.445515073048933\n",
       " 1638 => 12.291417786947916\n",
       " 4375 => 12.220328185136704\n",
       " 5505 => 12.202465313730887\n",
       "   34 => 12.180350228876843\n",
       " 4242 => 12.153089495591802\n",
       " 3431 => 12.147095919616069\n",
       "  603 => 12.138053102319322\n",
       "  737 => 12.0662683583668"
      ]
     },
     "execution_count": 253,
     "metadata": {},
     "output_type": "execute_result"
    }
   ],
   "source": [
    "#These are provided by the recommend function, which\n",
    "#takes an instance of a recommender, a user ID (from the ones available in\n",
    "#the training matrix), the number of recommendations, and an array of songs\n",
    "#ID from which to make recommendations as its arguments.\n",
    "#With this line of code, we retrieve the recommendations for the user with\n",
    "#the recommender ID 1, which corresponds to the UserID 277427 in the original\n",
    "#dataset. We're asking for up to 10 recommendations that have been picked\n",
    "#from all the available songs.\n",
    "recommend(recommender, 1, 10, collect(1:song_c))"
   ]
  },
  {
   "cell_type": "code",
   "execution_count": 241,
   "metadata": {},
   "outputs": [],
   "source": [
    "#We get back an array of a Pair of song IDs and recommendation scores:"
   ]
  },
  {
   "cell_type": "code",
   "execution_count": null,
   "metadata": {},
   "outputs": [],
   "source": []
  }
 ],
 "metadata": {
  "kernelspec": {
   "display_name": "Julia 1.5.3",
   "language": "julia",
   "name": "julia-1.5"
  },
  "language_info": {
   "file_extension": ".jl",
   "mimetype": "application/julia",
   "name": "julia",
   "version": "1.5.3"
  }
 },
 "nbformat": 4,
 "nbformat_minor": 4
}
